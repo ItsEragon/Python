{
  "nbformat": 4,
  "nbformat_minor": 0,
  "metadata": {
    "colab": {
      "name": "BankAccount.ipynb",
      "provenance": [],
      "authorship_tag": "ABX9TyM/u6X1XySADBNx74IFThWS",
      "include_colab_link": true
    },
    "kernelspec": {
      "name": "python3",
      "display_name": "Python 3"
    },
    "language_info": {
      "name": "python"
    }
  },
  "cells": [
    {
      "cell_type": "markdown",
      "metadata": {
        "id": "view-in-github",
        "colab_type": "text"
      },
      "source": [
        "<a href=\"https://colab.research.google.com/github/ItsEragon/Python/blob/main/Classes%20and%20Objects/BankAccount.ipynb\" target=\"_parent\"><img src=\"https://colab.research.google.com/assets/colab-badge.svg\" alt=\"Open In Colab\"/></a>"
      ]
    },
    {
      "cell_type": "code",
      "execution_count": null,
      "metadata": {
        "id": "f8sCOEqRCvqB"
      },
      "outputs": [],
      "source": [
        "class BankAccount(object):\n",
        "  def __init__(self, accountNumber, initialBalance, interestRate):\n",
        "    self.accountNumber = accountNumber\n",
        "    self.balance = initialBalance\n",
        "    self.interestRate = interestRate\n",
        "\n",
        "  def deposit(self, amount):\n",
        "    self.balance += amount\n",
        "\n",
        "  def withdraw(self, amount):\n",
        "    if self.balance >= amount :\n",
        "      self.balance -= amount\n",
        "      return amount\n",
        "    raise Exception('Insufficient balance for withdrawal: only %.2f in account %d' % (self.balance, self.accountNumber))\n",
        "\n",
        "  def addInterest(self):\n",
        "    self.balance *= 1.0 + self.interestRate/100.0\n",
        "\n",
        "  def transferTo(self, otherAccount, amount):\n",
        "    otherAccount.deposit(self.withdraw(amount))\n",
        "\n",
        "  def __str__(self):\n",
        "     return 'Account %d, balance: %.2f' % (self.accountNumber, self.balance)"
      ]
    },
    {
      "cell_type": "code",
      "source": [
        "checking = BankAccount(101, 100.0, 1.0)\n",
        "savings = BankAccount(201, 1000.0, 5.0)\n",
        "\n",
        "print(checking)\n",
        "print(savings)\n",
        "checking.addInterest()\n",
        "savings.addInterest()\n",
        "\n",
        "savings.transferTo(checking, 500)\n",
        "\n",
        "print(checking)\n",
        "print(savings)\n",
        "\n",
        "# savings.transferTo(checking, 1000)"
      ],
      "metadata": {
        "colab": {
          "base_uri": "https://localhost:8080/"
        },
        "id": "AhPjrxhUC0pZ",
        "outputId": "c4d96cca-9e1b-48a2-c727-dd0f4dc5283c"
      },
      "execution_count": null,
      "outputs": [
        {
          "output_type": "stream",
          "name": "stdout",
          "text": [
            "Account 101, balance: 100.00\n",
            "Account 201, balance: 1000.00\n",
            "Account 101, balance: 601.00\n",
            "Account 201, balance: 550.00\n"
          ]
        }
      ]
    }
  ]
}